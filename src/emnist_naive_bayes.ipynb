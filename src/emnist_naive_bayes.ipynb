{
  "cells": [
    {
      "cell_type": "code",
      "execution_count": 6,
      "source": [
        "import matplotlib.pyplot as plt\n",
        "from random import randint\n",
        "import numpy as np\n",
        "from tensorflow.python.ops.numpy_ops import np_config \n",
        "np_config.enable_numpy_behavior()\n",
        "from sklearn.naive_bayes import GaussianNB"
      ],
      "outputs": [],
      "metadata": {}
    },
    {
      "cell_type": "code",
      "execution_count": 7,
      "source": [
        "# Import training and testing data\n",
        "from emnist import extract_training_samples\n",
        "training_images, training_labels = extract_training_samples('balanced')\n",
        "\n",
        "from emnist import extract_test_samples\n",
        "testing_images, testing_labels = extract_test_samples('balanced')\n",
        "# Take a subset of the data (randomized)\n",
        "data_size = 75000\n",
        "training_x = np.zeros((data_size,28,28), dtype=int)\n",
        "training_y = np.zeros((data_size,), dtype=int)\n",
        "\n",
        "testing_x = np.zeros((data_size,28,28), dtype=int)\n",
        "testing_y = np.zeros((data_size,), dtype=int)\n",
        "\n",
        "for i in range(data_size):\n",
        "  idx = randint(0, training_images.shape[0]-1)\n",
        "  # as data is flattened we need them to be reshaped to the original 2D shape\n",
        "  training_x[i] = training_images[idx]\n",
        "  training_y[i] = training_labels[idx]\n",
        "  testing_x[i] = training_images[idx]\n",
        "  testing_y[i] = training_labels[idx]\n",
        "  \n",
        "flat_training_images = np.reshape(training_x, (data_size, 784))\n",
        "flat_testing_images = np.reshape(testing_x, (data_size, 784))\n",
        "\n",
        "#X_train, X_test, y_train, y_test = train_test_split(flat_training_images, training_y, test_size=0.5, random_state=0)\n",
        "gnb = GaussianNB()\n",
        "y_pred = gnb.fit(flat_training_images, training_y).predict(flat_testing_images)\n",
        "accuracy = round(np.mean(y_pred == testing_y)*100, 1)\n",
        "print(\"Accuracy of Naive Bayes with\", accuracy)"
      ],
      "outputs": [
        {
          "output_type": "stream",
          "name": "stdout",
          "text": [
            "Accuracy of Naive Bayes with 28.3\n"
          ]
        }
      ],
      "metadata": {}
    },
    {
      "cell_type": "code",
      "execution_count": 23,
      "source": [
        "# display image, prediction, confidence\n",
        "def display_prediction(i):\n",
        "    image = flat_testing_images[i].reshape(28,28)\n",
        "    plt.imshow(image, cmap=\"gray\")\n",
        "    actual = class_idx_to_class(testing_y[i])\n",
        "    pred = class_idx_to_class(y_pred[i])\n",
        "    plt.title(\"#\" + str(i) + \" - expected: \" + str(actual) + \" | predicted: \" + str(pred))\n",
        "    plt.show()\n",
        "\n",
        "# convert predicted class to digit or lowercase letter\n",
        "def class_idx_to_class(class_idx):\n",
        "    if class_idx < 10:\n",
        "        return class_idx\n",
        "    class_idx -= 10\n",
        "    if class_idx < 26:\n",
        "        return chr(class_idx + ord('A'))\n",
        "    class_idx -= 26\n",
        "    lowercase_alphabet = ['a', 'b', 'd', 'e', 'f', 'g', 'h', 'n', 'q', 'r', 't']\n",
        "    return lowercase_alphabet[class_idx]\n",
        "\n",
        "# choose a random data point in the test dataset\n",
        "display_prediction(randint(0, flat_testing_images.shape[0]-1))"
      ],
      "outputs": [
        {
          "output_type": "display_data",
          "data": {
            "image/png": "[encoded data removed]"
          },
          "metadata": {
            "image/png": {}
          }
        }
      ],
      "metadata": {}
    },
    {
      "cell_type": "code",
      "execution_count": 21,
      "source": [
        "# plot predictions for 5 random images\n",
        "for i in range(5):\n",
        "    n = randint(0, flat_testing_images.shape[0]-1)\n",
        "    plt.subplot(5, 1, i + 1)\n",
        "    display_prediction(n)\n",
        "plt.tight_layout()\n",
        "plt.show()"
      ],
      "outputs": [],
      "metadata": {}
    },
    {
      "cell_type": "code",
      "execution_count": null,
      "source": [
        "# convert predicted class to digit or lowercase letter\n",
        "class_mapping = \"0123456789ABCDEFGHIJKLMNOPQRSTUVWXYZabdefghnqrt\""
      ],
      "outputs": [],
      "metadata": {}
    },
    {
      "cell_type": "code",
      "execution_count": null,
      "source": [
        "# Convert all labels in an array to their corresponding digit/lowercase letter (credit to Rachel)\n",
        "def get_class_labels(labels):\n",
        "    class_labels = np.chararray(labels.shape)\n",
        "    for i, ele in enumerate(labels):\n",
        "        class_labels[i] = class_mapping[int(ele)]\n",
        "    return class_labels\n",
        "\n",
        "# Generate confusion matrix of the testing data (credit to Rachel)\n",
        "matrix = confusion_matrix(get_class_labels(testing_y), get_class_labels(y_pred))\n",
        "\n",
        "# Displays confusion matrix with expected label on the x-axis and the predicted label on the y-axis (credit to Rachel)\n",
        "sns.heatmap(matrix/np.sum(matrix), xticklabels=list(class_mapping), yticklabels=list(class_mapping))\n",
        "plt.xlabel('Expected label')\n",
        "plt.ylabel('Predicted label')"
      ],
      "outputs": [],
      "metadata": {}
    }
  ],
  "metadata": {
    "language_info": {
      "name": "plaintext"
    }
  },
  "nbformat": 4,
  "nbformat_minor": 2
}