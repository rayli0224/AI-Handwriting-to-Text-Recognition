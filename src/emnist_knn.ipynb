{
  "cells":[
    {
      "cell_type":"code",
      "source":[
        "# Important imports\n",
        "import gradio as gr\n",
        "import matplotlib.pyplot as plt\n",
        "from random import randint\n",
        "import numpy as np\n",
        "import faiss\n",
        "from tensorflow.python.ops.numpy_ops import np_config \n",
        "np_config.enable_numpy_behavior()\n",
        "\n",
        "# Importing training and testing data\n",
        "from emnist import extract_training_samples\n",
        "from emnist import extract_test_samples\n",
        "\n",
        "# scikit-learn performance metric utilities (credit to Rachel)\n",
        "from sklearn.metrics import confusion_matrix\n",
        "from sklearn.metrics import accuracy_score\n",
        "import seaborn as sns"
      ],
      "execution_count":15,
      "outputs":[
        
      ],
      "metadata":{
        
      }
    },
    {
      "cell_type":"code",
      "source":[
        "# Faiss implementation speeds up knn fit and predict\n",
        "# source: https:\/\/towardsdatascience.com\/make-knn-300-times-faster-than-scikit-learns-in-20-lines-5e29d74e76bb\n",
        "class FaissKNeighbors:\n",
        "    def __init__(self, k=5):\n",
        "        self.index = None\n",
        "        self.y = None\n",
        "        self.k = k\n",
        "\n",
        "    def fit(self, X, y):\n",
        "        self.index = faiss.IndexFlatL2(X.shape[1])\n",
        "        self.index.add(X.astype(np.float32))\n",
        "        self.y = y\n",
        "\n",
        "    def predict(self, X):\n",
        "        distances, indices = self.index.search(X.astype(np.float32), k=self.k)\n",
        "        votes = self.y[indices]\n",
        "        predictions = np.array([np.argmax(np.bincount(x)) for x in votes])\n",
        "        return predictions"
      ],
      "execution_count":6,
      "outputs":[
        
      ],
      "metadata":{
        
      }
    },
    {
      "cell_type":"code",
      "source":[
        "# Import training and testing data (using the balanced dataset of emnist)\n",
        "training_images, training_labels = extract_training_samples('balanced')\n",
        "testing_images, testing_labels = extract_test_samples('balanced')\n",
        "\n",
        "# Take a subset of the first n-elements of training data\n",
        "training_data_size = 100000\n",
        "training_x = np.zeros((training_data_size,training_images.shape[1]**2),dtype=int)\n",
        "training_y = np.zeros((training_data_size,),dtype=int)\n",
        "\n",
        "# Take a subset of the first n-elements of testing data (all of the testing data)\n",
        "testing_data_size = testing_images.shape[0]\n",
        "testing_x = np.zeros((testing_data_size, testing_images.shape[1]**2),dtype=int)\n",
        "testing_y = np.zeros((testing_data_size,),dtype=int)\n",
        "\n",
        "for i in range(training_data_size):\n",
        "  training_x[i] = training_images[i].flatten()\n",
        "  training_y[i] = training_labels[i]\n",
        "  \n",
        "for i in range(testing_data_size):\n",
        "  testing_x[i] = testing_images[i].flatten()\n",
        "  testing_y[i] = testing_labels[i]"
      ],
      "execution_count":9,
      "outputs":[
        
      ],
      "metadata":{
        
      }
    },
    {
      "cell_type":"code",
      "source":[
        "# Create and fit training data to a knn with 2 neighbors\n",
        "num_neighbors = 2\n",
        "knn = FaissKNeighbors(num_neighbors)\n",
        "knn.fit(training_x, training_y)"
      ],
      "execution_count":10,
      "outputs":[
        
      ],
      "metadata":{
        
      }
    },
    {
      "cell_type":"code",
      "source":[
        "# Output the accuracy of knn on the training and testing datasets\n",
        "training_pred = knn.predict(training_x)\n",
        "testing_pred = knn.predict(testing_x)\n",
        "\n",
        "print(\"Training Accuracy is \", accuracy_score(training_y, training_pred)*100)\n",
        "print(\"Validation Accuracy is \", accuracy_score(testing_y, testing_pred)*100)"
      ],
      "execution_count":11,
      "outputs":[
        {
          "name":"stdout",
          "text":[
            "Training Accuracy is  88.302\n",
            "Validation Accuracy is  75.77127659574468\n"
          ],
          "output_type":"stream"
        }
      ],
      "metadata":{
        
      }
    },
    {
      "cell_type":"code",
      "source":[
        "# Letters in the correct order so that they can be indexed using the labels (credit to Allison)\n",
        "class_mapping = '0123456789ABCDEFGHIJKLMNOPQRSTUVWXYZabdefghnqrt'\n",
        "\n",
        "# Displays the ith image, expected, and predicted\n",
        "def display_prediction(image, expected, predicted):\n",
        "    plt.imshow(image, cmap=\"gray\") \n",
        "    plt.title(\"Expected: \" + str(expected) + \" | Predicted: \" + str(predicted))\n",
        "    plt.show()\n",
        "\n",
        "# Chooses a random data point\n",
        "idx = randint(0, testing_y.shape[0]-1)\n",
        "\n",
        "# Displays training model at idx\n",
        "training_image = training_x[idx].reshape(28,28)\n",
        "training_expected = class_mapping[training_y[idx]]\n",
        "training_predicted = class_mapping[training_pred[idx]]\n",
        "display_prediction(training_image, training_expected, training_predicted)\n",
        "\n",
        "# Displays testing model at idx\n",
        "testing_image = testing_x[idx].reshape(28,28)\n",
        "testing_expected = class_mapping[testing_y[idx]]\n",
        "testing_predicted = class_mapping[testing_pred[idx]]\n",
        "display_prediction(testing_image, testing_expected, testing_predicted)"
      ],
      "execution_count":40,
      "outputs":[
        {
          "data":{
            "image\/png":"[encoded data removed]"
          },
          "metadata":{
            "image\/png":{
              
            }
          },
          "output_type":"display_data"
        }
      ],
      "metadata":{
        
      }
    },
    {
      "cell_type":"code",
      "source":[
        "# Convert all labels in an array to their corresponding digit\/lowercase letter (credit to Rachel)\n",
        "def get_class_labels(labels):\n",
        "    class_labels = np.chararray(labels.shape)\n",
        "    for i, ele in enumerate(labels):\n",
        "        class_labels[i] = class_mapping[int(ele)]\n",
        "    return class_labels\n",
        "\n",
        "# Generate confusion matrix of the testing data (credit to Rachel)\n",
        "matrix = confusion_matrix(get_class_labels(testing_y), get_class_labels(testing_pred))\n",
        "\n",
        "# Displays confusion matrix with expected label on the x-axis and the predicted label on the y-axis (credit to Rachel)\n",
        "sns.heatmap(matrix\/np.sum(matrix), xticklabels=list(class_mapping), yticklabels=list(class_mapping))\n",
        "plt.xlabel('Expected label')\n",
        "plt.ylabel('Predicted label')"
      ],
      "execution_count":16,
      "outputs":[
        {
          "data":{
            "text\/plain":[
              "Text(33.0, 0.5, 'Predicted label')"
            ],
            "image\/png":"[encoded data removed]"
          },
          "metadata":{
            "image\/png":{
              
            }
          },
          "output_type":"display_data"
        }
      ],
      "metadata":{
        
      }
    },
    {
      "cell_type":"code",
      "source":[
        "# Function to classify an input image for gradio output\n",
        "def image_classifier(image):\n",
        "    pred = knn.predict(np.reshape(image, (1, 784)))\n",
        "    return str(class_mapping[int(pred[0])])"
      ],
      "execution_count":17,
      "outputs":[
        
      ],
      "metadata":{
        
      }
    },
    {
      "cell_type":"code",
      "source":[
        "# Randomly classifies 5 images to display (note E = Expected, P = Predicted)\n",
        "for i in range(5):\n",
        "    idx = randint(0, testing_x.shape[0]-1)\n",
        "    plt.subplot(1, 5, i + 1)\n",
        "    plt.title(\"E: \" + str(class_mapping[testing_y[idx]]) + \" | P: \" + str(image_classifier(testing_images[idx])))\n",
        "    plt.imshow(testing_images[idx], cmap=\"gray\")\n",
        "plt.tight_layout()\n",
        "plt.show()"
      ],
      "execution_count":32,
      "outputs":[
        {
          "data":{
            "image\/png":"[encoded data removed]"
          },
          "metadata":{
            "image\/png":{
              
            }
          },
          "output_type":"display_data"
        }
      ],
      "metadata":{
        
      }
    },
    {
      "cell_type":"code",
      "source":[
        "# sketchpad to draw on -> image\n",
        "image = gr.inputs.Image(shape=(28, 28), image_mode=\"L\", invert_colors=True, source=\"canvas\", type=\"numpy\")\n",
        "# Gradio interface\n",
        "iface = gr.Interface(fn=image_classifier, inputs=image, outputs=\"label\").launch(share=\"True\")"
      ],
      "execution_count":38,
      "outputs":[
        {
          "name":"stdout",
          "text":[
            "Running on local URL:  http:\/\/127.0.0.1:7870\/\n",
            "Running on public URL: https:\/\/51641.gradio.app\n",
            "\n",
            "This share link will expire in 72 hours. To get longer links, send an email to: support@gradio.app\n"
          ],
          "output_type":"stream"
        },
        {
          "data":{
            "text\/html":[
              "\n",
              "        <iframe\n",
              "            width=\"900\"\n",
              "            height=\"500\"\n",
              "            src=\"https:\/\/51641.gradio.app\"\n",
              "            frameborder=\"0\"\n",
              "            allowfullscreen\n",
              "            \n",
              "        ><\/iframe>\n",
              "        "
            ]
          },
          "metadata":{
            
          },
          "output_type":"display_data"
        }
      ],
      "metadata":{
        
      }
    },
    {
      "cell_type":"code",
      "source":[
        
      ],
      "execution_count":0,
      "outputs":[
        
      ],
      "metadata":{
        
      }
    }
  ],
  "metadata":{
    
  },
  "nbformat":4,
  "nbformat_minor":0
}