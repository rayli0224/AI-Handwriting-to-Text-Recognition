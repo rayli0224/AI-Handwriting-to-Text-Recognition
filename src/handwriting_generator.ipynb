{
  "cells":[
    {
      "cell_type":"code",
      "source":[
        "import numpy as np\n",
        "\n",
        "from emnist import extract_training_samples\n",
        "training_images, training_labels = extract_training_samples(\"balanced\")\n",
        "from emnist import extract_test_samples\n",
        "testing_images, testing_labels = extract_test_samples(\"balanced\")\n",
        "\n",
        "training_images = training_images \/ 255.0\n",
        "testing_images = testing_images \/ 255.0\n",
        "training_images = np.expand_dims(training_images, axis=3)\n",
        "testing_images = np.expand_dims(testing_images, axis=3)\n",
        "\n",
        "import matplotlib.pyplot as plt\n",
        "class_mapping = \"0123456789ABCDEFGHIJKLMNOPQRSTUVWXYZabdefghnqrt\""
      ],
      "execution_count":35,
      "outputs":[
        
      ],
      "metadata":{
        
      }
    },
    {
      "cell_type":"code",
      "source":[
        "def class_idx_to_class(class_idx):\n",
        "    return class_mapping[class_idx]"
      ],
      "execution_count":36,
      "outputs":[
        
      ],
      "metadata":{
        
      }
    },
    {
      "cell_type":"code",
      "source":[
        "char_dict = dict.fromkeys(list(class_mapping))\n",
        "for i in range(training_labels.shape[0]):\n",
        "    label = class_idx_to_class(training_labels[i])\n",
        "    image = training_images[i]\n",
        "    if char_dict[label] is None:\n",
        "        char_dict[label] = [i]\n",
        "    else:\n",
        "        char_dict[label].append(i)"
      ],
      "execution_count":37,
      "outputs":[
        
      ],
      "metadata":{
        
      }
    },
    {
      "cell_type":"code",
      "source":[
        "from random import randint\n",
        "\n",
        "unique_handwriting = dict.fromkeys(list(class_mapping))\n",
        "\n",
        "# Generates a unique handwriting dictionary from char_dict\n",
        "def generate_chars():\n",
        "    unique_handwriting.clear()\n",
        "    for key in char_dict.keys():\n",
        "        index = char_dict[key][randint(0, len(char_dict[key])-1)]\n",
        "        unique_handwriting[key] = index\n",
        "    return unique_handwriting\n",
        "\n",
        "# Generates a handwritten sentence given a word input (utilizes unique handwriting)\n",
        "def generate_image_from_word(input_word):\n",
        "    handwriting = generate_chars()\n",
        "    image = np.zeros((28,28,1))\n",
        "    for char in input_word:\n",
        "        if char == ' ':\n",
        "            image = np.concatenate((image,np.zeros((28,28,1))), 1)\n",
        "        else:\n",
        "            if char not in \"abdefghnqrt\":\n",
        "                char = char.upper()\n",
        "            image = np.concatenate((image,training_images[handwriting[char]]), 1)\n",
        "    image = image[0:,28:]\n",
        "    return image\n",
        "    "
      ],
      "execution_count":40,
      "outputs":[
        
      ],
      "metadata":{
        
      }
    },
    {
      "cell_type":"code",
      "source":[
        "for i in range(5):\n",
        "    handwritten_image = generate_image_from_word(\"The quick brown fox jumps over the lazy dog\")\n",
        "    plt.figure(figsize=(28, 3))\n",
        "    plt.imshow(handwritten_image, cmap='gray')\n",
        "\n",
        "handwritten_image = generate_image_from_word(\"Hello\")\n",
        "plt.figure(figsize=(28, 3))\n",
        "plt.imshow(handwritten_image, cmap='gray')\n",
        "\n",
        "handwritten_image = generate_image_from_word(\"Bye\")\n",
        "plt.figure(figsize=(28, 3))\n",
        "plt.imshow(handwritten_image, cmap='gray')"
      ],
      "execution_count":45,
      "outputs":[
        {
          "data":{
            "text\/plain":[
              "<matplotlib.image.AxesImage at 0x7fb81abf8340>"
            ],
            "image\/png":"[encoded data removed]"
          },
          "metadata":{
            "image\/png":{
              
            }
          },
          "output_type":"display_data"
        }
      ],
      "metadata":{
        
      }
    },
    {
      "cell_type":"code",
      "source":[
        
      ],
      "execution_count":0,
      "outputs":[
        
      ],
      "metadata":{
        
      }
    }
  ],
  "metadata":{
    
  },
  "nbformat":4,
  "nbformat_minor":0
}