{
  "cells":[
    {
      "cell_type":"code",
      "source":[
        "# Basic operating system (os), numerical, and plotting functionality\n",
        "import os\n",
        "import numpy as np\n",
        "import pandas as pd\n",
        "%matplotlib inline\n",
        "import matplotlib.pyplot as plt\n",
        "from random import randint\n",
        "#import gradio as gr\n",
        "import argparse\n",
        "import cv2\n",
        "import tensorflow as tf\n",
        "\n",
        "# import emnist\n",
        "from emnist import list_datasets\n",
        "from emnist import extract_training_samples\n",
        "from emnist import extract_test_samples\n",
        "\n",
        "from tensorflow.keras.preprocessing.image import ImageDataGenerator\n",
        "from tensorflow.keras.optimizers import SGD\n",
        "from sklearn.preprocessing import LabelBinarizer\n",
        "from sklearn.model_selection import train_test_split\n",
        "from sklearn.metrics import classification_report\n",
        "from imutils import build_montages"
      ],
      "execution_count":1,
      "outputs":[
        
      ],
      "metadata":{
        
      }
    },
    {
      "cell_type":"code",
      "source":[
        "#from sklearn.utils import shuffle\n",
        "\n",
        "# Feature extractors and classification algorithm\n",
        "#from sklearn.tree import DecisionTreeClassifier\n",
        "#from sklearn.ensemble import RandomForestClassifier\n",
        "\n",
        "# scikit-learn performance metric utilities\n",
        "#from sklearn.metrics import confusion_matrix\n",
        "#from sklearn.metrics import accuracy_score\n",
        "#import seaborn as sns"
      ],
      "execution_count":0,
      "outputs":[
        
      ],
      "metadata":{
        
      }
    },
    {
      "cell_type":"code",
      "source":[
        "list_datasets()"
      ],
      "execution_count":3,
      "outputs":[
        {
          "name":"stderr",
          "text":[
            "\rDownloading emnist.zip:   0%|          | 0.00\/67.0k [00:00<?, ?B\/s]\rDownloading emnist.zip: 7.38MB [00:00, 77.2MB\/s]                   \rDownloading emnist.zip: 14.7MB [00:00, 63.0MB\/s]\rDownloading emnist.zip: 20.9MB [00:00, 60.2MB\/s]\rDownloading emnist.zip: 26.7MB [00:00, 53.1MB\/s]\rDownloading emnist.zip: 31.9MB [00:00, 51.7MB\/s]\rDownloading emnist.zip: 40.1MB [00:00, 62.0MB\/s]\rDownloading emnist.zip: 46.2MB [00:00, 39.9MB\/s]\rDownloading emnist.zip: 51.0MB [00:01, 41.8MB\/s]\rDownloading emnist.zip: 56.5MB [00:01, 45.6MB\/s]\rDownloading emnist.zip: 63.8MB [00:01, 53.2MB\/s]\rDownloading emnist.zip: 73.0MB [00:01, 64.6MB\/s]\rDownloading emnist.zip: 82.1MB [00:01, 72.9MB\/s]\rDownloading emnist.zip: 91.3MB [00:01, 79.5MB\/s]\rDownloading emnist.zip: 101MB [00:01, 84.8MB\/s] \rDownloading emnist.zip: 110MB [00:01, 87.3MB\/s]\rDownloading emnist.zip: 119MB [00:01, 90.0MB\/s]\rDownloading emnist.zip: 128MB [00:01, 92.7MB\/s]\rDownloading emnist.zip: 137MB [00:02, 92.4MB\/s]\rDownloading emnist.zip: 146MB [00:02, 93.0MB\/s]\rDownloading emnist.zip: 155MB [00:02, 93.2MB\/s]\rDownloading emnist.zip: 168MB [00:02, 106MB\/s] \rDownloading emnist.zip: 178MB [00:02, 101MB\/s]\rDownloading emnist.zip: 188MB [00:02, 97.9MB\/s]\rDownloading emnist.zip: 198MB [00:02, 99.2MB\/s]\rDownloading emnist.zip: 207MB [00:02, 93.9MB\/s]\rDownloading emnist.zip: 216MB [00:02, 94.1MB\/s]\rDownloading emnist.zip: 226MB [00:03, 93.9MB\/s]\rDownloading emnist.zip: 235MB [00:03, 93.8MB\/s]\rDownloading emnist.zip: 244MB [00:03, 94.2MB\/s]\rDownloading emnist.zip: 253MB [00:03, 93.1MB\/s]\rDownloading emnist.zip: 262MB [00:03, 93.3MB\/s]\rDownloading emnist.zip: 271MB [00:03, 93.7MB\/s]\rDownloading emnist.zip: 280MB [00:03, 93.9MB\/s]\rDownloading emnist.zip: 289MB [00:03, 95.4MB\/s]\rDownloading emnist.zip: 298MB [00:03, 93.9MB\/s]\rDownloading emnist.zip: 307MB [00:03, 92.6MB\/s]\rDownloading emnist.zip: 316MB [00:04, 92.7MB\/s]\rDownloading emnist.zip: 325MB [00:04, 93.1MB\/s]\rDownloading emnist.zip: 334MB [00:04, 93.9MB\/s]\rDownloading emnist.zip: 343MB [00:04, 94.2MB\/s]\rDownloading emnist.zip: 353MB [00:04, 96.0MB\/s]\rDownloading emnist.zip: 362MB [00:04, 95.9MB\/s]\rDownloading emnist.zip: 371MB [00:04, 95.6MB\/s]\rDownloading emnist.zip: 380MB [00:04, 95.9MB\/s]\rDownloading emnist.zip: 389MB [00:04, 95.1MB\/s]\rDownloading emnist.zip: 403MB [00:04, 108MB\/s] \rDownloading emnist.zip: 413MB [00:05, 88.5MB\/s]\rDownloading emnist.zip: 422MB [00:05, 81.9MB\/s]\rDownloading emnist.zip: 431MB [00:05, 85.8MB\/s]\rDownloading emnist.zip: 440MB [00:05, 85.7MB\/s]\rDownloading emnist.zip: 448MB [00:05, 81.1MB\/s]\rDownloading emnist.zip: 456MB [00:05, 69.6MB\/s]\rDownloading emnist.zip: 463MB [00:05, 68.5MB\/s]\rDownloading emnist.zip: 470MB [00:06, 62.8MB\/s]\rDownloading emnist.zip: 477MB [00:06, 63.7MB\/s]\rDownloading emnist.zip: 484MB [00:06, 64.7MB\/s]\rDownloading emnist.zip: 490MB [00:06, 64.9MB\/s]\rDownloading emnist.zip: 496MB [00:06, 63.3MB\/s]\rDownloading emnist.zip: 502MB [00:06, 49.0MB\/s]\rDownloading emnist.zip: 507MB [00:06, 48.7MB\/s]\rDownloading emnist.zip: 517MB [00:06, 62.1MB\/s]\rDownloading emnist.zip: 524MB [00:06, 61.3MB\/s]\rDownloading emnist.zip: 530MB [00:07, 63.6MB\/s]\rDownloading emnist.zip: 536MB [00:07, 78.0MB\/s]\n"
          ],
          "output_type":"stream"
        },
        {
          "data":{
            "text\/plain":[
              "['balanced', 'byclass', 'bymerge', 'digits', 'letters', 'mnist']"
            ]
          },
          "metadata":{
            
          },
          "output_type":"display_data"
        }
      ],
      "metadata":{
        
      }
    },
    {
      "cell_type":"code",
      "source":[
        "# get training and testing data and labels from the emnist balanced datset\n",
        "training_images, training_labels = extract_training_samples(\"balanced\")\n",
        "testing_images, testing_labels = extract_test_samples(\"balanced\")"
      ],
      "execution_count":17,
      "outputs":[
        
      ],
      "metadata":{
        
      }
    },
    {
      "cell_type":"code",
      "source":[
        "# letters in the correct order so that they can be indexed using the labels\n",
        "class_mapping = '0123456789ABCDEFGHIJKLMNOPQRSTUVWXYZabdefghnqrt'"
      ],
      "execution_count":3,
      "outputs":[
        
      ],
      "metadata":{
        
      }
    },
    {
      "cell_type":"code",
      "source":[
        "# expand new (channel) axis\n",
        "(training_images, training_labels), (testing_images, testing_labels) = tf.keras.datasets.mnist.load_data()\n",
        "training_images = np.expand_dims(training_images, axis=-1)\n",
        "training_images = np.repeat(training_images, 3, axis = -1)\n",
        "\n",
        "# normalize data\n",
        "training_images = training_images.astype('float32')\/255\n",
        "\n",
        "# resize input shape to be 32x32 (minimum size for resnet50)\n",
        "training_images = tf.image.resize(training_images, [32, 32])\n",
        "\n",
        "# one hot labels\n",
        "training_labels = tf.keras.utils.to_categorical(training_labels, num_classes=10)"
      ],
      "execution_count":11,
      "outputs":[
        
      ],
      "metadata":{
        
      }
    },
    {
      "cell_type":"code",
      "source":[
        "# expand new (channel) axis\n",
        "testing_images = np.expand_dims(testing_images, axis=-1)\n",
        "testing_images = np.repeat(testing_images, 3, axis = -1)\n",
        "\n",
        "# normalize data\n",
        "testing_images = testing_images.astype('float32')\/255\n",
        "\n",
        "# resize input shape to be 32x32 (minimum size for resnet50)\n",
        "testing_images = tf.image.resize(testing_images, [32, 32])\n",
        "\n",
        "# one hot labels\n",
        "testing_labels = tf.keras.utils.to_categorical(testing_labels, num_classes=10)"
      ],
      "execution_count":12,
      "outputs":[
        
      ],
      "metadata":{
        
      }
    },
    {
      "cell_type":"code",
      "source":[
        "# augment data using ImageDatagenerator to shift the data in different manners\n",
        "aug = ImageDataGenerator(rotation_range = 10, zoom_range=0.05, width_shift_range=0.1, height_shift_range=0.1, shear_range=0.2, horizontal_flip=False, fill_mode=\"nearest\")"
      ],
      "execution_count":14,
      "outputs":[
        
      ],
      "metadata":{
        
      }
    },
    {
      "cell_type":"code",
      "source":[
        "# create and compile resnet network\n",
        "input = tf.keras.Input(shape=(32, 32, 3))\n",
        "model = tf.keras.applications.resnet50.ResNet50(include_top=False, weights=\"imagenet\", input_tensor=input)\n",
        "# apply global max pooling\n",
        "pool = tf.keras.layers.GlobalMaxPooling2D()(model.output)\n",
        "\n",
        "# add classification layer\n",
        "classification = tf.keras.layers.Dense(10, activation='softmax', use_bias=True)(pool)\n",
        "\n",
        "# bind all layers\n",
        "resnet_model = tf.keras.Model(model.input, classification)"
      ],
      "execution_count":13,
      "outputs":[
        
      ],
      "metadata":{
        
      }
    },
    {
      "cell_type":"code",
      "source":[
        "training_images.shape"
      ],
      "execution_count":14,
      "outputs":[
        {
          "data":{
            "text\/plain":[
              "TensorShape([60000, 32, 32, 3])"
            ]
          },
          "metadata":{
            
          },
          "output_type":"display_data"
        }
      ],
      "metadata":{
        
      }
    },
    {
      "cell_type":"code",
      "source":[
        "# train network \n",
        "resnet_model.compile(loss=\"categorical_crossentropy\", optimizer=\"Adam\",\n",
        "\tmetrics=[\"accuracy\"])\n",
        "resnet_model.fit(training_images, training_labels, batch_size=10000, epochs=4)"
      ],
      "execution_count":15,
      "outputs":[
        {
          "name":"stdout",
          "text":[
            "Epoch 1\/4\n"
          ],
          "output_type":"stream"
        }
      ],
      "metadata":{
        
      }
    },
    {
      "cell_type":"code",
      "source":[
        "# evaluate network\n",
        "predictions = model.predict(testing_images)\n",
        "print(classification_report(testing_labels.argmax(axis=1), predictions.argmax(axis=1), target_names=class_mapping))"
      ],
      "execution_count":0,
      "outputs":[
        
      ],
      "metadata":{
        
      }
    }
  ],
  "metadata":{
    
  },
  "nbformat":4,
  "nbformat_minor":0
}